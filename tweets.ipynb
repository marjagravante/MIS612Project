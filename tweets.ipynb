{
 "cells": [
  {
   "cell_type": "code",
   "execution_count": 13,
   "id": "5c06f0de-da50-4883-893e-02e45b640992",
   "metadata": {},
   "outputs": [
    {
     "name": "stderr",
     "output_type": "stream",
     "text": [
      "C:\\Users\\jojie\\AppData\\Local\\Temp\\ipykernel_9020\\205778730.py:19: FutureWarning: username is deprecated, use user.username instead\n",
      "  tweets.append([tweet.date, tweet.username, tweet.content])\n"
     ]
    },
    {
     "name": "stdout",
     "output_type": "stream",
     "text": [
      "                          Date             User  \\\n",
      "0    2022-08-28 13:21:22+00:00    31milmovement   \n",
      "1    2022-08-28 09:21:05+00:00    31milmovement   \n",
      "2    2022-08-26 09:35:41+00:00     isabelmerana   \n",
      "3    2022-08-26 04:02:28+00:00  1sambayan_lakan   \n",
      "4    2022-08-26 03:41:28+00:00  1sambayan_lakan   \n",
      "...                        ...              ...   \n",
      "4995 2020-09-19 04:54:38+00:00  paulandreiroset   \n",
      "4996 2020-09-17 00:51:02+00:00      GrowlHarhar   \n",
      "4997 2020-09-15 11:38:56+00:00     madambolivar   \n",
      "4998 2020-09-14 04:53:04+00:00      GrowlHarhar   \n",
      "4999 2020-09-11 01:12:21+00:00     onejimntonic   \n",
      "\n",
      "                                                  Tweet  \n",
      "0     FOODIES FOR LIFE 😁 Rody Duterte &amp; Bong Go\\...  \n",
      "1     REUNITED 😮😍\\n\\n#SalamatPRRD #DuterteLegacy #Ta...  \n",
      "2     Ikaw ang boss tapos sasabihin mong wala kang a...  \n",
      "3     MATANDANG kawatan daw si Briones? Kala ko si D...  \n",
      "4     Itong mga Marcos trolls, parang Dolomite Beach...  \n",
      "...                                                 ...  \n",
      "4995  Gagawin talaga lahat ng pamahalaan para lumihi...  \n",
      "4996  Katanginan n GUSTO nila ang Kanilang BP!\\n\\n&g...  \n",
      "4997  Congrats. Regular na tayo mga ka-quarantine. #...  \n",
      "4998  Noon di p batas ang TRAIN LAW dami ngakngak an...  \n",
      "4999  Happy September Fools, I guess..?\\n\\n#MarcosNO...  \n",
      "\n",
      "[5000 rows x 3 columns]\n"
     ]
    }
   ],
   "source": [
    "import snscrape.modules.twitter as sntwitter\n",
    "import pandas as pd\n",
    "\n",
    "# query = \"(from:elonmusk) until:2020-01-01 since:2010-01-01\"\n",
    "# query = \"(#oustduterte) until:2022-06-30 since:2016-06-30 -filter:replies\"\n",
    "# query = \"(#dutertepalpak OR #dutertecorrupt) -filter:links -filter:replies\"\n",
    "query = \"prrd -filter:links -filter:replies\"\n",
    "tweets = []\n",
    "limit = 5000\n",
    "\n",
    "\n",
    "for tweet in sntwitter.TwitterSearchScraper(query).get_items():\n",
    "    \n",
    "    # print(vars(tweet))\n",
    "    # break\n",
    "    if len(tweets) == limit:\n",
    "        break\n",
    "    else:\n",
    "        tweets.append([tweet.date, tweet.username, tweet.content])\n",
    "        \n",
    "df = pd.DataFrame(tweets, columns=['Date', 'User', 'Tweet'])\n",
    "print(df)\n",
    "\n",
    "# to save to csv\n",
    "df.to_csv('tweets_prrd.csv')"
   ]
  },
  {
   "cell_type": "code",
   "execution_count": null,
   "id": "a0a69b28-fdd4-42df-a1d3-d96239aa602a",
   "metadata": {},
   "outputs": [],
   "source": []
  },
  {
   "cell_type": "code",
   "execution_count": null,
   "id": "7ff9c4c4-2769-44c3-903f-c2afb003972a",
   "metadata": {},
   "outputs": [],
   "source": []
  }
 ],
 "metadata": {
  "kernelspec": {
   "display_name": "Python 3 (ipykernel)",
   "language": "python",
   "name": "python3"
  },
  "language_info": {
   "codemirror_mode": {
    "name": "ipython",
    "version": 3
   },
   "file_extension": ".py",
   "mimetype": "text/x-python",
   "name": "python",
   "nbconvert_exporter": "python",
   "pygments_lexer": "ipython3",
   "version": "3.10.5"
  }
 },
 "nbformat": 4,
 "nbformat_minor": 5
}
